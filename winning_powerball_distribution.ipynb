{
 "cells": [
  {
   "cell_type": "markdown",
   "id": "2bc03ee8",
   "metadata": {},
   "source": [
    "# Winning Powerball Numbers Distribution\n",
    "\n",
    "### What is the purpose?\n",
    "\n",
    "This is a simple fun little analysis i wanted to make on the possible distribution of numbers picked for the Powerball lottery.\n",
    "The dataset includes the winning powerball numbers(5 White balls, and 1 Red powerball) drawings from 2010 to March 2023(updated). Obviously these numbers are selected live at random during each drawing, but for fun i wanted to see if there were any patterns or outliers in certain numbers.\n",
    "\n",
    "If you would like to grab your own updated version of this dataset you can find it [Here](https://catalog.data.gov/dataset/lottery-powerball-winning-numbers-beginning-2010).\n",
    "\n",
    "Okay, so lets begin. First we start by importing the necessary libraries."
   ]
  },
  {
   "cell_type": "code",
   "execution_count": 1,
   "id": "eb3e55a9",
   "metadata": {},
   "outputs": [],
   "source": [
    "import pandas as pd\n",
    "import matplotlib.pyplot as plt\n",
    "import collections"
   ]
  },
  {
   "cell_type": "markdown",
   "id": "b780ec40",
   "metadata": {},
   "source": [
    "We read in the csv file saved in our enviornment as a pandas dataframe. Then create a working copy to do the analysis on."
   ]
  },
  {
   "cell_type": "code",
   "execution_count": 2,
   "id": "0e8faf2b",
   "metadata": {},
   "outputs": [
    {
     "data": {
      "text/html": [
       "<div>\n",
       "<style scoped>\n",
       "    .dataframe tbody tr th:only-of-type {\n",
       "        vertical-align: middle;\n",
       "    }\n",
       "\n",
       "    .dataframe tbody tr th {\n",
       "        vertical-align: top;\n",
       "    }\n",
       "\n",
       "    .dataframe thead th {\n",
       "        text-align: right;\n",
       "    }\n",
       "</style>\n",
       "<table border=\"1\" class=\"dataframe\">\n",
       "  <thead>\n",
       "    <tr style=\"text-align: right;\">\n",
       "      <th></th>\n",
       "      <th>Draw Date</th>\n",
       "      <th>Winning Numbers</th>\n",
       "      <th>Multiplier</th>\n",
       "    </tr>\n",
       "  </thead>\n",
       "  <tbody>\n",
       "    <tr>\n",
       "      <th>0</th>\n",
       "      <td>09/26/2020</td>\n",
       "      <td>11 21 27 36 62 24</td>\n",
       "      <td>3.0</td>\n",
       "    </tr>\n",
       "    <tr>\n",
       "      <th>1</th>\n",
       "      <td>09/30/2020</td>\n",
       "      <td>14 18 36 49 67 18</td>\n",
       "      <td>2.0</td>\n",
       "    </tr>\n",
       "    <tr>\n",
       "      <th>2</th>\n",
       "      <td>10/03/2020</td>\n",
       "      <td>18 31 36 43 47 20</td>\n",
       "      <td>2.0</td>\n",
       "    </tr>\n",
       "    <tr>\n",
       "      <th>3</th>\n",
       "      <td>10/07/2020</td>\n",
       "      <td>06 24 30 53 56 19</td>\n",
       "      <td>2.0</td>\n",
       "    </tr>\n",
       "    <tr>\n",
       "      <th>4</th>\n",
       "      <td>10/10/2020</td>\n",
       "      <td>05 18 23 40 50 18</td>\n",
       "      <td>3.0</td>\n",
       "    </tr>\n",
       "    <tr>\n",
       "      <th>...</th>\n",
       "      <td>...</td>\n",
       "      <td>...</td>\n",
       "      <td>...</td>\n",
       "    </tr>\n",
       "    <tr>\n",
       "      <th>1439</th>\n",
       "      <td>03/06/2023</td>\n",
       "      <td>02 13 29 58 69 04</td>\n",
       "      <td>3.0</td>\n",
       "    </tr>\n",
       "    <tr>\n",
       "      <th>1440</th>\n",
       "      <td>03/08/2023</td>\n",
       "      <td>26 27 43 61 69 04</td>\n",
       "      <td>3.0</td>\n",
       "    </tr>\n",
       "    <tr>\n",
       "      <th>1441</th>\n",
       "      <td>03/11/2023</td>\n",
       "      <td>11 20 33 43 58 24</td>\n",
       "      <td>2.0</td>\n",
       "    </tr>\n",
       "    <tr>\n",
       "      <th>1442</th>\n",
       "      <td>03/13/2023</td>\n",
       "      <td>03 10 24 46 63 04</td>\n",
       "      <td>2.0</td>\n",
       "    </tr>\n",
       "    <tr>\n",
       "      <th>1443</th>\n",
       "      <td>03/15/2023</td>\n",
       "      <td>16 18 33 37 50 08</td>\n",
       "      <td>2.0</td>\n",
       "    </tr>\n",
       "  </tbody>\n",
       "</table>\n",
       "<p>1444 rows × 3 columns</p>\n",
       "</div>"
      ],
      "text/plain": [
       "       Draw Date    Winning Numbers  Multiplier\n",
       "0     09/26/2020  11 21 27 36 62 24         3.0\n",
       "1     09/30/2020  14 18 36 49 67 18         2.0\n",
       "2     10/03/2020  18 31 36 43 47 20         2.0\n",
       "3     10/07/2020  06 24 30 53 56 19         2.0\n",
       "4     10/10/2020  05 18 23 40 50 18         3.0\n",
       "...          ...                ...         ...\n",
       "1439  03/06/2023  02 13 29 58 69 04         3.0\n",
       "1440  03/08/2023  26 27 43 61 69 04         3.0\n",
       "1441  03/11/2023  11 20 33 43 58 24         2.0\n",
       "1442  03/13/2023  03 10 24 46 63 04         2.0\n",
       "1443  03/15/2023  16 18 33 37 50 08         2.0\n",
       "\n",
       "[1444 rows x 3 columns]"
      ]
     },
     "execution_count": 2,
     "metadata": {},
     "output_type": "execute_result"
    }
   ],
   "source": [
    "powerball_df = pd.read_csv(\"powerball_2010_2023.csv\") #reading the csv file into a pandas Dataframe\n",
    "working_pb_df = powerball_df.copy()     #creating a working copy to not mutate our original data\n",
    "working_pb_df"
   ]
  },
  {
   "cell_type": "markdown",
   "id": "ff409483",
   "metadata": {},
   "source": [
    "## The data\n",
    "\n",
    "Here we see the data were working with above. We see it contains 1444 rows of data, and it contains three columns although the one we will be working with is the Winning Numbers column. Which is a string obj of the winning powerball numbers including the powerball as the final number.\n",
    "\n",
    "Next lets take a look at the dataframe information"
   ]
  },
  {
   "cell_type": "code",
   "execution_count": 3,
   "id": "06501b54",
   "metadata": {},
   "outputs": [
    {
     "name": "stdout",
     "output_type": "stream",
     "text": [
      "<class 'pandas.core.frame.DataFrame'>\n",
      "RangeIndex: 1444 entries, 0 to 1443\n",
      "Data columns (total 3 columns):\n",
      " #   Column           Non-Null Count  Dtype  \n",
      "---  ------           --------------  -----  \n",
      " 0   Draw Date        1444 non-null   object \n",
      " 1   Winning Numbers  1444 non-null   object \n",
      " 2   Multiplier       1234 non-null   float64\n",
      "dtypes: float64(1), object(2)\n",
      "memory usage: 34.0+ KB\n"
     ]
    }
   ],
   "source": [
    "working_pb_df.info()"
   ]
  },
  {
   "cell_type": "markdown",
   "id": "cab1ab1a",
   "metadata": {},
   "source": [
    "Above we see the pandas dataframe's information. We see that out of the 1444 rows the column of intrest to us, the Winning Numbers column contains all 1444 rows without any missing null data. Good."
   ]
  },
  {
   "cell_type": "markdown",
   "id": "b53ed02b",
   "metadata": {},
   "source": [
    "## Selecting our Data\n",
    "\n",
    "So, here we create a Pandas Series object by accessing the Winning Number column from our Dataframe. This is the only column of data we will be working with. We print out the Series to view the information. We see that the datatype of our data is object, in our case a string."
   ]
  },
  {
   "cell_type": "code",
   "execution_count": 4,
   "id": "4bd74925",
   "metadata": {},
   "outputs": [
    {
     "data": {
      "text/plain": [
       "0       11 21 27 36 62 24\n",
       "1       14 18 36 49 67 18\n",
       "2       18 31 36 43 47 20\n",
       "3       06 24 30 53 56 19\n",
       "4       05 18 23 40 50 18\n",
       "              ...        \n",
       "1439    02 13 29 58 69 04\n",
       "1440    26 27 43 61 69 04\n",
       "1441    11 20 33 43 58 24\n",
       "1442    03 10 24 46 63 04\n",
       "1443    16 18 33 37 50 08\n",
       "Name: Winning Numbers, Length: 1444, dtype: object"
      ]
     },
     "execution_count": 4,
     "metadata": {},
     "output_type": "execute_result"
    }
   ],
   "source": [
    "winning_nums = working_pb_df[\"Winning Numbers\"] #grabbing the winning numbers column\n",
    "winning_nums"
   ]
  },
  {
   "cell_type": "markdown",
   "id": "1f2a1e46",
   "metadata": {},
   "source": [
    "## Processing our Data\n",
    "\n",
    "This is our main chunk of code used to process our data. We want to create two dictionary objects, one for the 5 whiteball numbers and the other for the red powerballs. We will be using the collections Counter class for this purpose. This will allow us to count the frequency of each integer.\n",
    "\n",
    "In a loop we iterate over the pandas Series creating a list. Because our data is one string we process it by stripping any whitespace and splitting the string into a list of strings. We then use a list comprehension to convert each number into an integer as another list. Afterwards we seperate the first 5 ints(The white balls) from the last number(The powerball).\n",
    "Finally we update each corresponding dictionary with its respective list of values."
   ]
  },
  {
   "cell_type": "code",
   "execution_count": 5,
   "id": "b3e3916e",
   "metadata": {},
   "outputs": [
    {
     "name": "stdout",
     "output_type": "stream",
     "text": [
      "Counter({32: 132, 39: 132, 36: 131, 23: 129, 59: 126, 28: 125, 10: 124, 14: 120, 41: 120, 20: 119, 11: 118, 21: 118, 45: 118, 54: 118, 12: 118, 22: 118, 40: 116, 52: 116, 17: 116, 8: 116, 47: 115, 37: 114, 3: 114, 44: 113, 7: 113, 56: 112, 16: 112, 53: 111, 55: 111, 33: 111, 19: 111, 27: 110, 18: 110, 58: 109, 6: 108, 30: 108, 31: 107, 1: 107, 2: 107, 48: 107, 57: 107, 5: 106, 38: 106, 49: 105, 13: 105, 50: 104, 51: 104, 15: 103, 9: 103, 24: 101, 29: 101, 42: 100, 4: 98, 43: 97, 25: 97, 46: 96, 34: 93, 26: 92, 35: 91, 61: 83, 63: 76, 69: 76, 62: 70, 64: 68, 67: 64, 68: 61, 66: 59, 65: 58, 60: 56})\n",
      "\n",
      "Counter({24: 66, 18: 60, 4: 53, 11: 52, 5: 51, 10: 51, 25: 51, 19: 50, 26: 50, 6: 50, 13: 50, 14: 49, 7: 49, 8: 49, 17: 48, 20: 47, 3: 46, 1: 46, 15: 46, 2: 45, 16: 45, 23: 44, 12: 44, 22: 43, 9: 43, 21: 43, 29: 27, 33: 22, 27: 19, 32: 16, 35: 15, 30: 15, 28: 14, 34: 13, 31: 11, 36: 7, 39: 6, 38: 5, 37: 3})\n"
     ]
    }
   ],
   "source": [
    "whiteballs_counter = collections.Counter()     #create dictionary counter objects to count frequencies\n",
    "powerballs_counter = collections.Counter()\n",
    "\n",
    "for winning_number in winning_nums:\n",
    "    string_list = winning_number.strip().split(\" \")   #strip and split the string into list of strings\n",
    "    int_list = [int(val) for val in string_list]    #convert each value into an integer\n",
    "    whiteballs = int_list[:5]                       #Grab the white ball numbers\n",
    "    powerballs = int_list[5:]                       #Grab the red powerball number\n",
    "    \n",
    "    whiteballs_counter.update(whiteballs)          #update both dictionaries with their respective list of ints\n",
    "    powerballs_counter.update(powerballs)\n",
    "\n",
    "print(whiteballs_counter)\n",
    "print()\n",
    "print(powerballs_counter)"
   ]
  },
  {
   "cell_type": "markdown",
   "id": "c1469abe",
   "metadata": {},
   "source": [
    "## Cleaning our data\n",
    "\n",
    "Okay cool, we got our frequencies, but theres a problem. Here we see the powerball dictionary contains values up to 39, which is far larger than the current available options for the powerball. For a little bit of history, the powerball game has had different number of values to pick from during its run since its creation. The powerball lottery began in 1992 and at the time had 42 values to choose from for the powerball. That number has changed over the years changing most recently in 2015 when it droped down to the current 26 possible options. Since these values are no longer in play for future lottery games we can remove this data from our analysis.\n",
    "\n",
    "Here we filter our powerball dictionary using a dictionary comprehension only keeping the powerball values equal to and under the current 26 possible options. "
   ]
  },
  {
   "cell_type": "code",
   "execution_count": 6,
   "id": "3130e71b",
   "metadata": {},
   "outputs": [
    {
     "data": {
      "text/plain": [
       "{24: 66,\n",
       " 18: 60,\n",
       " 20: 47,\n",
       " 19: 50,\n",
       " 5: 51,\n",
       " 23: 44,\n",
       " 26: 50,\n",
       " 6: 50,\n",
       " 13: 50,\n",
       " 14: 49,\n",
       " 11: 52,\n",
       " 4: 53,\n",
       " 10: 51,\n",
       " 7: 49,\n",
       " 3: 46,\n",
       " 2: 45,\n",
       " 22: 43,\n",
       " 9: 43,\n",
       " 8: 49,\n",
       " 1: 46,\n",
       " 21: 43,\n",
       " 16: 45,\n",
       " 25: 51,\n",
       " 17: 48,\n",
       " 12: 44,\n",
       " 15: 46}"
      ]
     },
     "execution_count": 6,
     "metadata": {},
     "output_type": "execute_result"
    }
   ],
   "source": [
    "filtered_powerball = {k:v for k, v in powerballs_counter.items() if k <= 26} #filter our data\n",
    "filtered_powerball"
   ]
  },
  {
   "cell_type": "markdown",
   "id": "9db621c3",
   "metadata": {},
   "source": [
    "## Plotting our results\n",
    "\n",
    "Okay we have our data cleaned and processed. Time to plot it. Here we create a simple bar chart of our data using the matplotlib library. We create two plots, one for our white ball winning numbers, and the other for the red powerballs. We create the first plot in a subplots object to modify the figsize to make the data easier to see."
   ]
  },
  {
   "cell_type": "code",
   "execution_count": 7,
   "id": "c167a420",
   "metadata": {
    "scrolled": false
   },
   "outputs": [
    {
     "data": {
      "image/png": "[encoded data removed]",
      "text/plain": [
       "<Figure size 850x600 with 1 Axes>"
      ]
     },
     "metadata": {},
     "output_type": "display_data"
    }
   ],
   "source": [
    "fig, ax = plt.subplots(figsize=(8.5, 6))     #create a subplots for plotting whiteballs data\n",
    "ax.bar(whiteballs_counter.keys(), whiteballs_counter.values(), width=0.8)    #create a bar chart \n",
    "\n",
    "#set the plot title, x and y axis labels\n",
    "ax.set_xlabel(\"White Ball Winning Numbers\")\n",
    "ax.set_ylabel(\"Frequency\")\n",
    "ax.set_title(\"White Ball Frequency Distribution\")\n",
    "plt.show()"
   ]
  },
  {
   "cell_type": "code",
   "execution_count": 8,
   "id": "81bec2c3",
   "metadata": {
    "scrolled": false
   },
   "outputs": [
    {
     "data": {
      "image/png": "[encoded data removed]",
      "text/plain": [
       "<Figure size 640x480 with 1 Axes>"
      ]
     },
     "metadata": {},
     "output_type": "display_data"
    }
   ],
   "source": [
    "plt.bar(filtered_powerball.keys(), filtered_powerball.values())\n",
    "plt.title(\"Power Ball Frequency Distribution\")\n",
    "plt.xlabel(\"Red Power Ball Numbers\")\n",
    "plt.ylabel(\"Frequency\")\n",
    "plt.show()"
   ]
  },
  {
   "cell_type": "markdown",
   "id": "910a1685",
   "metadata": {},
   "source": [
    "## Results\n",
    "\n",
    "Plotting our data shows some interesting insights. For the first plot of the white balls we see that the distribution of our data is somewhat uniform with some numbers being picked a little higher than the others. We also see that apparently the numbers larger than 59 tend to appear far less than the rest of the data. The top two appearing numbers were 32, 39 both with a frequency of 132 occurances.\n",
    "\n",
    "The second plot, our powerball distribution also appears to be prety uniform aswell which makes sense as the numbers are chosen at random. There is one number that appear more than the others that being 24 with a frequency of 66 occurances with the second highest frequency being 18 with 60 occurances."
   ]
  },
  {
   "cell_type": "markdown",
   "id": "e4ae0c87",
   "metadata": {},
   "source": [
    "# Time to win the lottery??\n",
    "\n",
    "As a fun little conclusion to this experiment lets determine what would be the best possible set of numbers to play in the lottery. The following five white ball numbers and one red powerball numbers were the top highest occuring in the dataset meaning these numbers tend to be chosen the most often. These are: **_Whiteballs- 23, 32, 36, 39, 59 and the powerball of 24_**. In conclusion to increase your chances of winning the lottery, playing these numbers might be the best possible strategy also dont choose any number larger than 59.\n",
    "\n",
    "There you have it. If you happen to win the lottery with these numbers Congratulations!!! You can send me my share of the jackpot.\n"
   ]
  }
 ],
 "metadata": {
  "kernelspec": {
   "display_name": "Python 3 (ipykernel)",
   "language": "python",
   "name": "python3"
  },
  "language_info": {
   "codemirror_mode": {
    "name": "ipython",
    "version": 3
   },
   "file_extension": ".py",
   "mimetype": "text/x-python",
   "name": "python",
   "nbconvert_exporter": "python",
   "pygments_lexer": "ipython3",
   "version": "3.9.16"
  }
 },
 "nbformat": 4,
 "nbformat_minor": 5
}
